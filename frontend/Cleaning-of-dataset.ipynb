{
 "cells": [
  {
   "cell_type": "code",
   "execution_count": 5,
   "metadata": {},
   "outputs": [],
   "source": [
    "import csv\n",
    "import pandas as pd\n",
    "import os\n",
    "import glob"
   ]
  },
  {
   "cell_type": "code",
   "execution_count": 2,
   "metadata": {},
   "outputs": [],
   "source": [
    "# Oct19 = pd.read_csv(\"2019-Oct.csv\",nrows=5)\n",
    "\n",
    "\n",
    "# Datalist = [\n",
    "# Oct19,Nov19,Dec19,Jan20,Feb20,Mar20,Apr20\n",
    "# ]\n",
    "\n",
    "\n",
    "# Oct19 = Oct19.drop(columns=[\"product_id\",\"category_id\",\"user_id\",\"user_session\"]).dropna()\n",
    "# compression_opts = dict(method='zip',archive_name='out.csv')  \n",
    "# Oct19.to_csv('Oct19.zip', index=False,compression=compression_opts)  "
   ]
  },
  {
   "cell_type": "code",
   "execution_count": 3,
   "metadata": {},
   "outputs": [],
   "source": [
    "Oct19 = pd.read_csv(\"2019-Oct.csv\")\n",
    "\n",
    "\n",
    "# Datalist = [\n",
    "# Oct19,Nov19,Dec19,Jan20,Feb20,Mar20,Apr20\n",
    "# ]\n",
    "\n",
    "\n",
    "Oct19 = Oct19.drop(columns=[\"product_id\",\"category_id\",\"user_id\",\"user_session\"]).query(\"event_type == 'purchase'\").dropna()\n",
    "compression_opts = dict(method='zip',archive_name='Oct19.csv')  \n",
    "Oct19.to_csv('Oct19.zip', index=False,compression=compression_opts)  "
   ]
  },
  {
   "cell_type": "code",
   "execution_count": 4,
   "metadata": {},
   "outputs": [],
   "source": [
    "Nov19 = pd.read_csv(\"2019-Nov.csv\")\n",
    "\n",
    "Nov19 = Nov19.drop(columns=[\"product_id\",\"category_id\",\"user_id\",\"user_session\"]).query(\"event_type == 'purchase'\").dropna()\n",
    "compression_opts = dict(method='zip',archive_name='Nov19.csv')  \n",
    "Nov19.to_csv('Nov19.zip', index=False,compression=compression_opts)  "
   ]
  },
  {
   "cell_type": "code",
   "execution_count": 2,
   "metadata": {},
   "outputs": [],
   "source": [
    "Dec19 = pd.read_csv(\"2019-Dec.csv\")\n",
    "\n",
    "Dec19 = Dec19.drop(columns=[\"product_id\",\"category_id\",\"user_id\",\"user_session\"]).query(\"event_type == 'purchase'\").dropna()\n",
    "compression_opts = dict(method='zip',archive_name='Dec19.csv')  \n",
    "Dec19.to_csv('Dec19.zip', index=False,compression=compression_opts)  "
   ]
  },
  {
   "cell_type": "code",
   "execution_count": null,
   "metadata": {},
   "outputs": [],
   "source": [
    "Jan20 = pd.read_csv(\"2020-Jan.csv\")\n",
    "\n",
    "Jan20 = Jan20.drop(columns=[\"product_id\",\"category_id\",\"user_id\",\"user_session\"]).query(\"event_type == 'purchase'\").dropna()\n",
    "compression_opts = dict(method='zip',archive_name='Jan20.csv')  \n",
    "Jan20.to_csv('Jan20.zip', index=False,compression=compression_opts) "
   ]
  },
  {
   "cell_type": "code",
   "execution_count": 6,
   "metadata": {},
   "outputs": [],
   "source": [
    "Feb20 = pd.read_csv(\"2020-Feb.csv\")\n",
    "\n",
    "Feb20 = Feb20.drop(columns=[\"product_id\",\"category_id\",\"user_id\",\"user_session\"]).query(\"event_type == 'purchase'\").dropna()\n",
    "compression_opts = dict(method='zip',archive_name='Feb20.csv')  \n",
    "Feb20.to_csv('Feb20.zip', index=False,compression=compression_opts) "
   ]
  },
  {
   "cell_type": "code",
   "execution_count": 7,
   "metadata": {},
   "outputs": [],
   "source": [
    "Mar20 = pd.read_csv(\"2020-Mar.csv\")\n",
    "\n",
    "Mar20 = Mar20.drop(columns=[\"product_id\",\"category_id\",\"user_id\",\"user_session\"]).query(\"event_type == 'purchase'\").dropna()\n",
    "compression_opts = dict(method='zip',archive_name='Mar20.csv')  \n",
    "Mar20.to_csv('Mar20.zip', index=False,compression=compression_opts) "
   ]
  },
  {
   "cell_type": "code",
   "execution_count": 8,
   "metadata": {},
   "outputs": [],
   "source": [
    "Apr20 = pd.read_csv(\"2020-Apr.csv\")\n",
    "Apr20 = Apr20.drop(columns=[\"product_id\",\"category_id\",\"user_id\",\"user_session\"]).query(\"event_type == 'purchase'\").dropna()\n",
    "compression_opts = dict(method='zip',archive_name='Apr20.csv')  \n",
    "Apr20.to_csv('Apr20.zip', index=False,compression=compression_opts) "
   ]
  },
  {
   "cell_type": "code",
   "execution_count": null,
   "metadata": {},
   "outputs": [],
   "source": []
  }
 ],
 "metadata": {
  "kernelspec": {
   "display_name": "Python 3.8.10 64-bit (microsoft store)",
   "language": "python",
   "name": "python3"
  },
  "language_info": {
   "codemirror_mode": {
    "name": "ipython",
    "version": 3
   },
   "file_extension": ".py",
   "mimetype": "text/x-python",
   "name": "python",
   "nbconvert_exporter": "python",
   "pygments_lexer": "ipython3",
   "version": "3.8.10"
  },
  "vscode": {
   "interpreter": {
    "hash": "dc4bf2949bb6c6d29a0bd28f1c47ed5c4e4061ea257ab0e80d618c62a9f40c18"
   }
  }
 },
 "nbformat": 4,
 "nbformat_minor": 4
}
